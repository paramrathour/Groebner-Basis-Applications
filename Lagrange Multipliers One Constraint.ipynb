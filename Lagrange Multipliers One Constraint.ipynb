{
 "cells": [
  {
   "cell_type": "markdown",
   "metadata": {},
   "source": [
    "## Lagrange Multipliers \n",
    "Note, f (optimizing functions) and g (constraints) are both multivariate polynomials\n",
    "\n",
    "#### Assumptions\n",
    "- This notebook can only work with one constraint (I have created another notebook that is generalized, do check that)\n",
    "- It is possible that some variable is \"free\", i.e., its value can be taken any number in the field. I have not considered that as it makes symbolic root solving for other variables difficult.\n",
    "- Technically, I am calculating the optimum value only at critical points. If the region under constraints is not bounded by above (below) then a maximum (minimum) doesn't exist. I am not checking the boundedness of region here"
   ]
  },
  {
   "cell_type": "code",
   "execution_count": 1,
   "metadata": {},
   "outputs": [],
   "source": [
    "import numpy as np"
   ]
  },
  {
   "cell_type": "code",
   "execution_count": 2,
   "metadata": {},
   "outputs": [],
   "source": [
    "set_random_seed(1)"
   ]
  },
  {
   "cell_type": "code",
   "execution_count": 3,
   "metadata": {},
   "outputs": [],
   "source": [
    "n = 3"
   ]
  },
  {
   "cell_type": "code",
   "execution_count": 4,
   "metadata": {},
   "outputs": [],
   "source": [
    "F = RR # Field "
   ]
  },
  {
   "cell_type": "code",
   "execution_count": 5,
   "metadata": {},
   "outputs": [
    {
     "data": {
      "text/plain": [
       "['x0', 'x1', 'x2']"
      ]
     },
     "execution_count": 5,
     "metadata": {},
     "output_type": "execute_result"
    }
   ],
   "source": [
    "variables = ['x'+str(i) for i in range(n)]; variables"
   ]
  },
  {
   "cell_type": "code",
   "execution_count": 6,
   "metadata": {},
   "outputs": [
    {
     "data": {
      "text/plain": [
       "Multivariate Polynomial Ring in x0, x1, x2 over Real Field with 53 bits of precision"
      ]
     },
     "execution_count": 6,
     "metadata": {},
     "output_type": "execute_result"
    }
   ],
   "source": [
    "P = PolynomialRing(F, variables, order='lex'); P"
   ]
  },
  {
   "cell_type": "code",
   "execution_count": 7,
   "metadata": {},
   "outputs": [
    {
     "data": {
      "text/plain": [
       "(x0, x1, x2)"
      ]
     },
     "execution_count": 7,
     "metadata": {},
     "output_type": "execute_result"
    }
   ],
   "source": [
    "x = P.gens(); x"
   ]
  },
  {
   "cell_type": "code",
   "execution_count": 8,
   "metadata": {},
   "outputs": [
    {
     "data": {
      "text/plain": [
       "0.964652347918136*x0^2 + 0.364600307131730*x0*x2 - 0.628246299697287*x0 - 0.308688596474854*x2^2 + 0.541454003184010"
      ]
     },
     "execution_count": 8,
     "metadata": {},
     "output_type": "execute_result"
    }
   ],
   "source": [
    "f = P.random_element(); f"
   ]
  },
  {
   "cell_type": "code",
   "execution_count": 9,
   "metadata": {},
   "outputs": [
    {
     "data": {
      "text/plain": [
       "-0.497866351436908*x0^2 + 0.816703331508811*x0*x2 - 0.947197913825740*x0 + 0.269469347982694*x1*x2 - 0.252736150629489*x2^2"
      ]
     },
     "execution_count": 9,
     "metadata": {},
     "output_type": "execute_result"
    }
   ],
   "source": [
    "g = P.random_element(); g"
   ]
  },
  {
   "cell_type": "code",
   "execution_count": 10,
   "metadata": {},
   "outputs": [
    {
     "data": {
      "text/plain": [
       "['L', 'x0', 'x1', 'x2']"
      ]
     },
     "execution_count": 10,
     "metadata": {},
     "output_type": "execute_result"
    }
   ],
   "source": [
    "variables.insert(0,'L'); variables"
   ]
  },
  {
   "cell_type": "code",
   "execution_count": 11,
   "metadata": {},
   "outputs": [
    {
     "data": {
      "text/plain": [
       "Multivariate Polynomial Ring in L, x0, x1, x2 over Real Field with 53 bits of precision"
      ]
     },
     "execution_count": 11,
     "metadata": {},
     "output_type": "execute_result"
    }
   ],
   "source": [
    "Pnew = PolynomialRing(F, variables, order='lex'); Pnew"
   ]
  },
  {
   "cell_type": "code",
   "execution_count": 12,
   "metadata": {},
   "outputs": [
    {
     "data": {
      "text/plain": [
       "(L, x0, x1, x2)"
      ]
     },
     "execution_count": 12,
     "metadata": {},
     "output_type": "execute_result"
    }
   ],
   "source": [
    "x = Pnew.gens(); x"
   ]
  },
  {
   "cell_type": "code",
   "execution_count": 13,
   "metadata": {},
   "outputs": [],
   "source": [
    "f = Pnew(f)\n",
    "g = Pnew(g)"
   ]
  },
  {
   "cell_type": "code",
   "execution_count": 14,
   "metadata": {},
   "outputs": [
    {
     "data": {
      "text/plain": [
       "[0,\n",
       " 1.92930469583627*x0 + 0.364600307131730*x2 - 0.628246299697287,\n",
       " 0,\n",
       " 0.364600307131730*x0 - 0.617377192949707*x2]"
      ]
     },
     "execution_count": 14,
     "metadata": {},
     "output_type": "execute_result"
    }
   ],
   "source": [
    "f_gradient = f.gradient(); f_gradient"
   ]
  },
  {
   "cell_type": "code",
   "execution_count": 15,
   "metadata": {},
   "outputs": [
    {
     "data": {
      "text/plain": [
       "[0,\n",
       " -0.995732702873815*x0 + 0.816703331508811*x2 - 0.947197913825740,\n",
       " 0.269469347982694*x2,\n",
       " 0.816703331508811*x0 + 0.269469347982694*x1 - 0.505472301258978*x2]"
      ]
     },
     "execution_count": 15,
     "metadata": {},
     "output_type": "execute_result"
    }
   ],
   "source": [
    "g_gradient = g.gradient(); g_gradient"
   ]
  },
  {
   "cell_type": "code",
   "execution_count": 16,
   "metadata": {},
   "outputs": [
    {
     "data": {
      "text/plain": [
       "L"
      ]
     },
     "execution_count": 16,
     "metadata": {},
     "output_type": "execute_result"
    }
   ],
   "source": [
    "L = Pnew.gens()[0]; L"
   ]
  },
  {
   "cell_type": "code",
   "execution_count": 17,
   "metadata": {},
   "outputs": [
    {
     "data": {
      "text/plain": [
       "[0.995732702873815*L*x0 - 0.816703331508811*L*x2 + 0.947197913825740*L + 1.92930469583627*x0 + 0.364600307131730*x2 - 0.628246299697287,\n",
       " -0.269469347982694*L*x2,\n",
       " -0.816703331508811*L*x0 - 0.269469347982694*L*x1 + 0.505472301258978*L*x2 + 0.364600307131730*x0 - 0.617377192949707*x2,\n",
       " -0.497866351436908*x0^2 + 0.816703331508811*x0*x2 - 0.947197913825740*x0 + 0.269469347982694*x1*x2 - 0.252736150629489*x2^2]"
      ]
     },
     "execution_count": 17,
     "metadata": {},
     "output_type": "execute_result"
    }
   ],
   "source": [
    "equations = [f_gradient[i] - L * g_gradient[i] for i in range(1, n+1)]\n",
    "equations.append(g); equations"
   ]
  },
  {
   "cell_type": "code",
   "execution_count": 18,
   "metadata": {},
   "outputs": [
    {
     "data": {
      "text/plain": [
       "Ideal (0.995732702873815*L*x0 - 0.816703331508811*L*x2 + 0.947197913825740*L + 1.92930469583627*x0 + 0.364600307131730*x2 - 0.628246299697287, -0.269469347982694*L*x2, -0.816703331508811*L*x0 - 0.269469347982694*L*x1 + 0.505472301258978*L*x2 + 0.364600307131730*x0 - 0.617377192949707*x2, -0.497866351436908*x0^2 + 0.816703331508811*x0*x2 - 0.947197913825740*x0 + 0.269469347982694*x1*x2 - 0.252736150629489*x2^2) of Multivariate Polynomial Ring in L, x0, x1, x2 over Real Field with 53 bits of precision"
      ]
     },
     "execution_count": 18,
     "metadata": {},
     "output_type": "execute_result"
    }
   ],
   "source": [
    "I = Ideal(equations); I"
   ]
  },
  {
   "cell_type": "code",
   "execution_count": 19,
   "metadata": {},
   "outputs": [
    {
     "data": {
      "text/plain": [
       "[L + 0.821300000000000*x1 - 25.3300000000000*x2 - 0.663300000000000, x0 + 0.300400000000000*x1 - 12.3600000000000*x2, x1^2 - 6.33300000000000*x1 + 6.76100000000000*x2, x1*x2 - 6.14300000000000*x2, x2^2 - 0.173000000000000*x2]"
      ]
     },
     "execution_count": 19,
     "metadata": {},
     "output_type": "execute_result"
    }
   ],
   "source": [
    "gb = I.groebner_basis(); gb"
   ]
  },
  {
   "cell_type": "code",
   "execution_count": 20,
   "metadata": {},
   "outputs": [
    {
     "data": {
      "text/plain": [
       "[[((1, 0, 0, 0), 1.00000000000000),\n",
       "  ((0, 0, 1, 0), 0.821300000000000),\n",
       "  ((0, 0, 0, 1), -25.3300000000000),\n",
       "  ((0, 0, 0, 0), -0.663300000000000)],\n",
       " [((0, 1, 0, 0), 1.00000000000000),\n",
       "  ((0, 0, 1, 0), 0.300400000000000),\n",
       "  ((0, 0, 0, 1), -12.3600000000000)],\n",
       " [((0, 0, 2, 0), 1.00000000000000),\n",
       "  ((0, 0, 1, 0), -6.33300000000000),\n",
       "  ((0, 0, 0, 1), 6.76100000000000)],\n",
       " [((0, 0, 1, 1), 1.00000000000000), ((0, 0, 0, 1), -6.14300000000000)],\n",
       " [((0, 0, 0, 2), 1.00000000000000), ((0, 0, 0, 1), -0.173000000000000)]]"
      ]
     },
     "execution_count": 20,
     "metadata": {},
     "output_type": "execute_result"
    }
   ],
   "source": [
    "gb_matrix = [list(gb[i].dict().items()) for i in range(len(gb))]; gb_matrix"
   ]
  },
  {
   "cell_type": "code",
   "execution_count": 21,
   "metadata": {},
   "outputs": [
    {
     "data": {
      "text/plain": [
       "[[0, 2, 3], [1, 2, 3], [2, 3], [2, 3], [3]]"
      ]
     },
     "execution_count": 21,
     "metadata": {},
     "output_type": "execute_result"
    }
   ],
   "source": [
    "variables_present = []\n",
    "for polynomial in gb_matrix:\n",
    "    variables = []\n",
    "    for term in polynomial:\n",
    "        for i, variable in enumerate(term[0]):\n",
    "            if variable != 0 and i not in variables:\n",
    "                variables.append(i)\n",
    "    variables_present.append(variables)\n",
    "variables_present"
   ]
  },
  {
   "cell_type": "code",
   "execution_count": 22,
   "metadata": {},
   "outputs": [],
   "source": [
    "all_values = []"
   ]
  },
  {
   "cell_type": "code",
   "execution_count": 23,
   "metadata": {},
   "outputs": [],
   "source": [
    "def backtrack_multivariate(values, gb, gb_matrix, variables_present, current_index, previous_index, all_values):\n",
    "    i = len(values)\n",
    "    if i > n:\n",
    "        all_values.append(values)\n",
    "        return\n",
    "    \n",
    "    previous_index = current_index\n",
    "    current_index = current_index - 1\n",
    "    to_eliminate = n-i-1\n",
    "    while current_index>=0:\n",
    "            temp_bool = true\n",
    "            for j in variables_present[current_index]:\n",
    "                temp_bool = temp_bool and (j>to_eliminate)\n",
    "            if temp_bool is False:\n",
    "                current_index = min(current_index + 1, len(gb)-1)\n",
    "                break\n",
    "            else:\n",
    "                current_index = current_index - 1\n",
    "    current_index = max(0, current_index)\n",
    "    if i > 0:    \n",
    "        gb_new = []\n",
    "        for j in range(len(gb)):\n",
    "            gb_new.append(gb[j].subs({x[n+1-i]:values[0]}))\n",
    "        gb_matrix_new = [list(gb_new[z].dict().items()) for z in range(len(gb_new))];\n",
    "    else: \n",
    "        gb_new = gb\n",
    "        gb_matrix_new = gb_matrix\n",
    "       \n",
    "    all_roots = []\n",
    "    for k in range(current_index, previous_index):\n",
    "        roots = []\n",
    "        try:\n",
    "            factors = gb_new[k].factor()\n",
    "        except:\n",
    "            continue\n",
    "        for fact in factors:\n",
    "            polynomial = fact[0].dict()\n",
    "            fac = list(polynomial.items())\n",
    "            if len(fac) == 1:\n",
    "                if 0 not in roots:\n",
    "                    roots.append(0)\n",
    "                \n",
    "            if len(fac) == 2:\n",
    "                if sum(fac[1][0]) < 2:\n",
    "                    value = -fac[0][1]/fac[1][1]\n",
    "                    if value not in roots:\n",
    "                        roots.append(value)\n",
    "        all_roots.append(roots)\n",
    "    \n",
    "    if (len(all_roots)) == 0:\n",
    "        print(\"Could not proceed with values \", values, \"returning\")\n",
    "        print(\"Possible reason: No solution or a variable can take infinite values\")\n",
    "        return\n",
    "    common_roots = all_roots[0]\n",
    "    for j in range(1,len(all_roots)):\n",
    "        common_roots = set(common_roots).intersection(all_roots[j])\n",
    "    if len(common_roots) == 0:\n",
    "        try:\n",
    "            common_roots.add(0)\n",
    "        except:\n",
    "            try:\n",
    "                common_roots.append(0)\n",
    "            except:\n",
    "                return\n",
    "    \n",
    "    for root in common_roots:\n",
    "        new = values\n",
    "        new.insert(0,root)\n",
    "        backtrack_multivariate(new.copy(), gb_new.copy(), gb_matrix_new.copy(), variables_present, current_index, previous_index, all_values)\n",
    "        values = values[1:]\n",
    "        "
   ]
  },
  {
   "cell_type": "code",
   "execution_count": 24,
   "metadata": {},
   "outputs": [],
   "source": [
    "all_values = []"
   ]
  },
  {
   "cell_type": "code",
   "execution_count": 25,
   "metadata": {},
   "outputs": [],
   "source": [
    "backtrack_multivariate([], gb, gb_matrix, variables_present, len(gb_matrix), 0, all_values)"
   ]
  },
  {
   "cell_type": "code",
   "execution_count": 26,
   "metadata": {},
   "outputs": [
    {
     "name": "stdout",
     "output_type": "stream",
     "text": [
      "(L, x0, x1, x2)  is  [0.663300000000000, 0, 0, 0]  with f (x0, x1, x2) = 0.541454003184010\n",
      "(L, x0, x1, x2)  is  [-4.53799290000000, -1.90243320000000, 6.33300000000000, 0]  with f (x0, x1, x2) = 5.22797063863078\n",
      "(L, x0, x1, x2)  is  [5.04539000000000, 2.13828000000000, 0, 0.173000000000000]  with f (x0, x1, x2) = 3.73434596133129\n",
      "Minimum is at  [0.663300000000000, 0, 0, 0]  and the minimum value is  0.541454003184010\n",
      "Maximum is at  [-4.53799290000000, -1.90243320000000, 6.33300000000000, 0]  and the maximum value is  5.22797063863078\n"
     ]
    }
   ],
   "source": [
    "minimum_value = (0,np.inf)\n",
    "maximum_value = (0,-np.inf)\n",
    "for i,values in enumerate(all_values):\n",
    "    value_assignments = {}\n",
    "    for j, value in enumerate(values):\n",
    "        value_assignments[x[j]] = value\n",
    "    f_value = f.subs(value_assignments)\n",
    "    if f_value < minimum_value[1]:\n",
    "        minimum_value = (i,f_value)\n",
    "    if f_value > maximum_value[1]:\n",
    "        maximum_value = (i,f_value)\n",
    "    print(str(x), \" is \", values, \" with f\", str(x[1:]), \"=\", f_value)\n",
    "print(\"Minimum is at \", all_values[minimum_value[0]], \" and the minimum value is \", minimum_value[1])\n",
    "print(\"Maximum is at \", all_values[maximum_value[0]], \" and the maximum value is \", maximum_value[1])"
   ]
  },
  {
   "cell_type": "code",
   "execution_count": null,
   "metadata": {},
   "outputs": [],
   "source": []
  }
 ],
 "metadata": {
  "kernelspec": {
   "display_name": "SageMath 9.3",
   "language": "sage",
   "name": "sagemath"
  },
  "language_info": {
   "codemirror_mode": {
    "name": "ipython",
    "version": 3
   },
   "file_extension": ".py",
   "mimetype": "text/x-python",
   "name": "python",
   "nbconvert_exporter": "python",
   "pygments_lexer": "ipython3",
   "version": "3.7.10"
  }
 },
 "nbformat": 4,
 "nbformat_minor": 4
}
