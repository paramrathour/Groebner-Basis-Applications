{
 "cells": [
  {
   "cell_type": "code",
   "execution_count": 1,
   "metadata": {},
   "outputs": [],
   "source": [
    "import numpy as np"
   ]
  },
  {
   "cell_type": "code",
   "execution_count": 2,
   "metadata": {},
   "outputs": [],
   "source": [
    "n = 3 # block size\n",
    "p = n*n # number of rows and columns\n",
    "m = n**4 # Number of variables"
   ]
  },
  {
   "cell_type": "code",
   "execution_count": 3,
   "metadata": {},
   "outputs": [
    {
     "data": {
      "text/plain": [
       "array([[0, 0, 0, 0, 5, 0, 0, 8, 0],\n",
       "       [0, 0, 0, 0, 6, 2, 0, 0, 5],\n",
       "       [6, 0, 0, 4, 0, 0, 7, 0, 0],\n",
       "       [0, 0, 7, 0, 0, 0, 9, 6, 0],\n",
       "       [0, 0, 5, 2, 0, 6, 1, 0, 0],\n",
       "       [0, 3, 6, 0, 0, 0, 4, 0, 0],\n",
       "       [0, 0, 3, 0, 0, 7, 0, 0, 4],\n",
       "       [1, 0, 0, 5, 8, 0, 0, 0, 0],\n",
       "       [0, 6, 0, 0, 1, 0, 0, 0, 0]])"
      ]
     },
     "execution_count": 3,
     "metadata": {},
     "output_type": "execute_result"
    }
   ],
   "source": [
    "given_grid = np.zeros((p,p), dtype = int); given_grid\n",
    "given_grid[0][4] = 5\n",
    "given_grid[0][7] = 8\n",
    "given_grid[1][4] = 6\n",
    "given_grid[1][5] = 2\n",
    "given_grid[1][8] = 5\n",
    "given_grid[2][0] = 6\n",
    "given_grid[2][3] = 4\n",
    "given_grid[2][6] = 7\n",
    "given_grid[3][2] = 7\n",
    "given_grid[3][6] = 9\n",
    "given_grid[3][7] = 6\n",
    "given_grid[4][2] = 5\n",
    "given_grid[4][3] = 2\n",
    "given_grid[4][5] = 6\n",
    "given_grid[4][6] = 1\n",
    "given_grid[5][1] = 3\n",
    "given_grid[5][2] = 6\n",
    "given_grid[5][6] = 4\n",
    "given_grid[6][2] = 3\n",
    "given_grid[6][5] = 7\n",
    "given_grid[6][8] = 4\n",
    "given_grid[7][0] = 1\n",
    "given_grid[7][3] = 5\n",
    "given_grid[7][4] = 8\n",
    "given_grid[8][1] = 6\n",
    "given_grid[8][4] = 1\n",
    "given_grid"
   ]
  },
  {
   "cell_type": "code",
   "execution_count": 4,
   "metadata": {},
   "outputs": [],
   "source": [
    "def detector(x,y):\n",
    "    xr = x // p\n",
    "    yr = y // p\n",
    "    xc = x % p\n",
    "    yc = y % p\n",
    "    xrr = xr // n\n",
    "    yrr = yr // n\n",
    "    xcc = xc // n\n",
    "    ycc = yc // n\n",
    "    return (xr==yr) or (xc==yc) or (xrr==yrr and xcc==ycc)"
   ]
  },
  {
   "cell_type": "code",
   "execution_count": 5,
   "metadata": {},
   "outputs": [],
   "source": [
    "def solver(n,p,m,given_grid):\n",
    "    grid = np.array([i for i in range(m)]).reshape(p,p);\n",
    "    P = BooleanPolynomialRing(m*p, names = 'x', order = 'lex');\n",
    "    generators_1D = np.array(P.gens());\n",
    "    generators = generators_1D.reshape(m,p);\n",
    "\n",
    "    equations_1 = []\n",
    "    for i in range(m):\n",
    "        temp = sum(generators[i][j] for j in range(p))\n",
    "        equations_1.append(temp-1)\n",
    "    for i in range(m):\n",
    "        temp = sum([reduce(lambda x, y: x*y, [(generators[i][j] - (1 if j==k else 0)) for j in range(p)]) for k in range(p)])\n",
    "        equations_1.append(temp)\n",
    "\n",
    "\n",
    "    equations_2 = []\n",
    "    for i in range(m):\n",
    "        for j in range(i+1,m):\n",
    "            if detector(i,j):\n",
    "                temp = sum([generators[i][k]*generators[j][k] for k in range(p)])\n",
    "                equations_2.append(temp)\n",
    "\n",
    "\n",
    "    count = 0\n",
    "    equations_3 = []\n",
    "    for i in range(p):\n",
    "        for j in range(p):\n",
    "            value = given_grid[i][j]\n",
    "            if value != 0:\n",
    "                value = value - 1\n",
    "                count = count + 1\n",
    "                temp = [(generators[grid[i][j]][k] -  (1 if k==value else 0)) for k in range(p)]\n",
    "                equations_3 = equations_3 + temp\n",
    "    \n",
    "    equations =  equations_1 + equations_2 + equations_3 \n",
    "    print(\"Total Equation = \",len(equations))\n",
    "    \n",
    "    I = Ideal(equations);\n",
    "    gb = I.groebner_basis();\n",
    "    \n",
    "    if len(gb) == 1:\n",
    "        print(\"No Solution\")\n",
    "    elif len(gb) == m*p:\n",
    "        print(\"Unqiue Solution\")\n",
    "        values = get_unique_solution(gb,n,p,m).reshape(m,p)\n",
    "        answer = np.zeros((p,p),dtype=int)\n",
    "        for i in range(p):\n",
    "            for j in range(p):\n",
    "                answer[i][j] = [y+1 for y, x in enumerate(values[grid[i][j]]) if x][0]\n",
    "        print(answer)\n",
    "    else:\n",
    "        print(\"Multiple Solutions\") # give any one from here\n",
    "        handle_multiple_solutions()"
   ]
  },
  {
   "cell_type": "code",
   "execution_count": 6,
   "metadata": {},
   "outputs": [],
   "source": [
    "def get_unique_solution(gb, n,p,m):\n",
    "    terms = []\n",
    "    for i in gb:\n",
    "        terms.append(str(i))\n",
    "    print(\"Groebner Basis is \", terms)\n",
    "\n",
    "    values = []\n",
    "    for i,term in enumerate(terms):\n",
    "        length = len(term)-(1+len(str(i)))\n",
    "        values.append(0 if length == 0 else 1)\n",
    "    return np.array(values)"
   ]
  },
  {
   "cell_type": "code",
   "execution_count": 7,
   "metadata": {},
   "outputs": [
    {
     "name": "stdout",
     "output_type": "stream",
     "text": [
      "Total Equation =  1206\n",
      "Unqiue Solution\n",
      "Groebner Basis is  ['x0', 'x1', 'x2 + 1', 'x3', 'x4', 'x5', 'x6', 'x7', 'x8', 'x9', 'x10', 'x11', 'x12 + 1', 'x13', 'x14', 'x15', 'x16', 'x17', 'x18 + 1', 'x19', 'x20', 'x21', 'x22', 'x23', 'x24', 'x25', 'x26', 'x27', 'x28', 'x29', 'x30', 'x31', 'x32', 'x33 + 1', 'x34', 'x35', 'x36', 'x37', 'x38', 'x39', 'x40 + 1', 'x41', 'x42', 'x43', 'x44', 'x45', 'x46', 'x47', 'x48', 'x49', 'x50', 'x51', 'x52', 'x53 + 1', 'x54', 'x55 + 1', 'x56', 'x57', 'x58', 'x59', 'x60', 'x61', 'x62', 'x63', 'x64', 'x65', 'x66', 'x67', 'x68', 'x69', 'x70 + 1', 'x71', 'x72', 'x73', 'x74', 'x75', 'x76', 'x77 + 1', 'x78', 'x79', 'x80', 'x81', 'x82', 'x83', 'x84', 'x85', 'x86', 'x87', 'x88 + 1', 'x89', 'x90', 'x91', 'x92', 'x93', 'x94', 'x95', 'x96 + 1', 'x97', 'x98', 'x99', 'x100', 'x101', 'x102', 'x103', 'x104', 'x105', 'x106', 'x107 + 1', 'x108 + 1', 'x109', 'x110', 'x111', 'x112', 'x113', 'x114', 'x115', 'x116', 'x117', 'x118', 'x119', 'x120', 'x121', 'x122 + 1', 'x123', 'x124', 'x125', 'x126', 'x127 + 1', 'x128', 'x129', 'x130', 'x131', 'x132', 'x133', 'x134', 'x135', 'x136', 'x137 + 1', 'x138', 'x139', 'x140', 'x141', 'x142', 'x143', 'x144', 'x145', 'x146', 'x147 + 1', 'x148', 'x149', 'x150', 'x151', 'x152', 'x153', 'x154', 'x155', 'x156', 'x157 + 1', 'x158', 'x159', 'x160', 'x161', 'x162', 'x163', 'x164', 'x165', 'x166', 'x167 + 1', 'x168', 'x169', 'x170', 'x171', 'x172', 'x173', 'x174', 'x175 + 1', 'x176', 'x177', 'x178', 'x179', 'x180', 'x181 + 1', 'x182', 'x183', 'x184', 'x185', 'x186', 'x187', 'x188', 'x189', 'x190', 'x191', 'x192 + 1', 'x193', 'x194', 'x195', 'x196', 'x197', 'x198', 'x199', 'x200 + 1', 'x201', 'x202', 'x203', 'x204', 'x205', 'x206', 'x207', 'x208', 'x209', 'x210', 'x211', 'x212', 'x213', 'x214 + 1', 'x215', 'x216', 'x217', 'x218', 'x219', 'x220', 'x221', 'x222 + 1', 'x223', 'x224', 'x225', 'x226', 'x227', 'x228', 'x229', 'x230', 'x231', 'x232', 'x233 + 1', 'x234 + 1', 'x235', 'x236', 'x237', 'x238', 'x239', 'x240', 'x241', 'x242', 'x243', 'x244 + 1', 'x245', 'x246', 'x247', 'x248', 'x249', 'x250', 'x251', 'x252 + 1', 'x253', 'x254', 'x255', 'x256', 'x257', 'x258', 'x259', 'x260', 'x261', 'x262', 'x263', 'x264', 'x265', 'x266', 'x267 + 1', 'x268', 'x269', 'x270', 'x271', 'x272 + 1', 'x273', 'x274', 'x275', 'x276', 'x277', 'x278', 'x279', 'x280', 'x281', 'x282 + 1', 'x283', 'x284', 'x285', 'x286', 'x287', 'x288', 'x289', 'x290', 'x291', 'x292 + 1', 'x293', 'x294', 'x295', 'x296', 'x297', 'x298', 'x299', 'x300', 'x301', 'x302', 'x303', 'x304', 'x305 + 1', 'x306', 'x307', 'x308', 'x309', 'x310', 'x311 + 1', 'x312', 'x313', 'x314', 'x315', 'x316', 'x317', 'x318', 'x319', 'x320', 'x321', 'x322 + 1', 'x323', 'x324', 'x325', 'x326', 'x327 + 1', 'x328', 'x329', 'x330', 'x331', 'x332', 'x333', 'x334', 'x335', 'x336', 'x337', 'x338', 'x339', 'x340 + 1', 'x341', 'x342', 'x343', 'x344', 'x345', 'x346 + 1', 'x347', 'x348', 'x349', 'x350', 'x351', 'x352 + 1', 'x353', 'x354', 'x355', 'x356', 'x357', 'x358', 'x359', 'x360', 'x361', 'x362', 'x363', 'x364', 'x365', 'x366', 'x367', 'x368 + 1', 'x369', 'x370', 'x371', 'x372', 'x373', 'x374 + 1', 'x375', 'x376', 'x377', 'x378 + 1', 'x379', 'x380', 'x381', 'x382', 'x383', 'x384', 'x385', 'x386', 'x387', 'x388', 'x389 + 1', 'x390', 'x391', 'x392', 'x393', 'x394', 'x395', 'x396', 'x397', 'x398', 'x399', 'x400', 'x401', 'x402 + 1', 'x403', 'x404', 'x405', 'x406', 'x407', 'x408', 'x409', 'x410', 'x411', 'x412', 'x413 + 1', 'x414', 'x415', 'x416 + 1', 'x417', 'x418', 'x419', 'x420', 'x421', 'x422', 'x423', 'x424', 'x425', 'x426', 'x427', 'x428 + 1', 'x429', 'x430', 'x431', 'x432', 'x433', 'x434', 'x435', 'x436', 'x437', 'x438', 'x439 + 1', 'x440', 'x441', 'x442', 'x443', 'x444', 'x445', 'x446', 'x447 + 1', 'x448', 'x449', 'x450 + 1', 'x451', 'x452', 'x453', 'x454', 'x455', 'x456', 'x457', 'x458', 'x459', 'x460', 'x461', 'x462 + 1', 'x463', 'x464', 'x465', 'x466', 'x467', 'x468', 'x469', 'x470', 'x471', 'x472 + 1', 'x473', 'x474', 'x475', 'x476', 'x477', 'x478 + 1', 'x479', 'x480', 'x481', 'x482', 'x483', 'x484', 'x485', 'x486', 'x487', 'x488', 'x489', 'x490 + 1', 'x491', 'x492', 'x493', 'x494', 'x495', 'x496', 'x497', 'x498', 'x499', 'x500', 'x501', 'x502', 'x503 + 1', 'x504', 'x505', 'x506 + 1', 'x507', 'x508', 'x509', 'x510', 'x511', 'x512', 'x513', 'x514', 'x515', 'x516', 'x517', 'x518 + 1', 'x519', 'x520', 'x521', 'x522', 'x523 + 1', 'x524', 'x525', 'x526', 'x527', 'x528', 'x529', 'x530', 'x531', 'x532', 'x533', 'x534', 'x535', 'x536', 'x537 + 1', 'x538', 'x539', 'x540', 'x541', 'x542', 'x543', 'x544', 'x545', 'x546', 'x547 + 1', 'x548', 'x549 + 1', 'x550', 'x551', 'x552', 'x553', 'x554', 'x555', 'x556', 'x557', 'x558', 'x559', 'x560', 'x561 + 1', 'x562', 'x563', 'x564', 'x565', 'x566', 'x567 + 1', 'x568', 'x569', 'x570', 'x571', 'x572', 'x573', 'x574', 'x575', 'x576', 'x577 + 1', 'x578', 'x579', 'x580', 'x581', 'x582', 'x583', 'x584', 'x585', 'x586', 'x587', 'x588 + 1', 'x589', 'x590', 'x591', 'x592', 'x593', 'x594', 'x595', 'x596', 'x597', 'x598 + 1', 'x599', 'x600', 'x601', 'x602', 'x603', 'x604', 'x605', 'x606', 'x607', 'x608', 'x609', 'x610 + 1', 'x611', 'x612', 'x613', 'x614 + 1', 'x615', 'x616', 'x617', 'x618', 'x619', 'x620', 'x621', 'x622', 'x623', 'x624', 'x625', 'x626 + 1', 'x627', 'x628', 'x629', 'x630', 'x631', 'x632', 'x633', 'x634', 'x635', 'x636 + 1', 'x637', 'x638', 'x639', 'x640', 'x641', 'x642', 'x643', 'x644', 'x645', 'x646', 'x647 + 1', 'x648', 'x649', 'x650', 'x651', 'x652', 'x653', 'x654 + 1', 'x655', 'x656', 'x657', 'x658', 'x659', 'x660', 'x661', 'x662 + 1', 'x663', 'x664', 'x665', 'x666', 'x667', 'x668', 'x669', 'x670', 'x671', 'x672', 'x673 + 1', 'x674', 'x675', 'x676', 'x677', 'x678', 'x679', 'x680', 'x681', 'x682', 'x683 + 1', 'x684 + 1', 'x685', 'x686', 'x687', 'x688', 'x689', 'x690', 'x691', 'x692', 'x693', 'x694', 'x695', 'x696 + 1', 'x697', 'x698', 'x699', 'x700', 'x701', 'x702', 'x703', 'x704', 'x705', 'x706 + 1', 'x707', 'x708', 'x709', 'x710', 'x711', 'x712 + 1', 'x713', 'x714', 'x715', 'x716', 'x717', 'x718', 'x719', 'x720', 'x721', 'x722 + 1', 'x723', 'x724', 'x725', 'x726', 'x727', 'x728']\n",
      "[[3 4 1 7 5 9 2 8 6]\n",
      " [8 7 9 1 6 2 3 4 5]\n",
      " [6 5 2 4 3 8 7 9 1]\n",
      " [2 1 7 3 4 5 9 6 8]\n",
      " [4 8 5 2 9 6 1 3 7]\n",
      " [9 3 6 8 7 1 4 5 2]\n",
      " [5 9 3 6 2 7 8 1 4]\n",
      " [1 2 4 5 8 3 6 7 9]\n",
      " [7 6 8 9 1 4 5 2 3]]\n"
     ]
    }
   ],
   "source": [
    "solver(n,p,m,given_grid)"
   ]
  }
 ],
 "metadata": {
  "kernelspec": {
   "display_name": "SageMath 9.3",
   "language": "sage",
   "name": "sagemath"
  },
  "language_info": {
   "codemirror_mode": {
    "name": "ipython",
    "version": 3
   },
   "file_extension": ".py",
   "mimetype": "text/x-python",
   "name": "python",
   "nbconvert_exporter": "python",
   "pygments_lexer": "ipython3",
   "version": "3.7.10"
  }
 },
 "nbformat": 4,
 "nbformat_minor": 4
}
