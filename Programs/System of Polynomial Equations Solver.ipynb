{
 "cells": [
  {
   "cell_type": "markdown",
   "metadata": {},
   "source": [
    "#### Assumptions\n",
    "- It is possible that some variable is \"free\", i.e., its value can be taken any number in the field. I have not considered that as it makes symbolic root solving for other variables difficult."
   ]
  },
  {
   "cell_type": "code",
   "execution_count": 1,
   "metadata": {},
   "outputs": [],
   "source": [
    "set_random_seed(3)"
   ]
  },
  {
   "cell_type": "code",
   "execution_count": 2,
   "metadata": {},
   "outputs": [],
   "source": [
    "n = 3 # Number of variables\n",
    "m = 3 # Number of equations"
   ]
  },
  {
   "cell_type": "code",
   "execution_count": 3,
   "metadata": {},
   "outputs": [],
   "source": [
    "F = RR # Field "
   ]
  },
  {
   "cell_type": "code",
   "execution_count": 4,
   "metadata": {},
   "outputs": [
    {
     "data": {
      "text/plain": [
       "['x0', 'x1', 'x2']"
      ]
     },
     "execution_count": 4,
     "metadata": {},
     "output_type": "execute_result"
    }
   ],
   "source": [
    "variables = ['x'+str(i) for i in range(n)]; variables"
   ]
  },
  {
   "cell_type": "code",
   "execution_count": 5,
   "metadata": {},
   "outputs": [
    {
     "data": {
      "text/plain": [
       "Multivariate Polynomial Ring in x0, x1, x2 over Real Field with 53 bits of precision"
      ]
     },
     "execution_count": 5,
     "metadata": {},
     "output_type": "execute_result"
    }
   ],
   "source": [
    "P = PolynomialRing(F, variables, order='lex'); P"
   ]
  },
  {
   "cell_type": "code",
   "execution_count": 6,
   "metadata": {},
   "outputs": [
    {
     "data": {
      "text/plain": [
       "[0.926172588505559*x0*x1 + 0.584803390058547*x0*x2 - 0.247267743493293*x1^2 - 0.873387401036998*x1 - 0.655064707635064*x2^2,\n",
       " -0.492643731563807*x0*x1 + 0.245862240622783*x0 - 0.517240129827284*x1 + 0.642662376505148*x2^2 - 0.0810015184273003,\n",
       " -0.522249059762958*x0^2 - 0.589913953878200*x0 - 0.387225601852989*x1 - 0.429439065777491*x2^2 - 0.324240018816532]"
      ]
     },
     "execution_count": 6,
     "metadata": {},
     "output_type": "execute_result"
    }
   ],
   "source": [
    "equations = [P.random_element() for i in range(m)]; equations"
   ]
  },
  {
   "cell_type": "code",
   "execution_count": 7,
   "metadata": {},
   "outputs": [],
   "source": [
    "def generate_groebner(F,P,equations,n,m):\n",
    "    I = Ideal(equations)\n",
    "    gb = I.groebner_basis()\n",
    "    gb_matrix = [list(gb[i].dict().items()) for i in range(len(gb))]\n",
    "    \n",
    "    variables_present = []\n",
    "    for polynomial in gb_matrix:\n",
    "        variables = []\n",
    "        for term in polynomial:\n",
    "            for i, variable in enumerate(term[0]):\n",
    "                if variable != 0 and i not in variables:\n",
    "                    variables.append(i)\n",
    "        variables_present.append(variables)\n",
    "\n",
    "    return gb, gb_matrix, variables_present"
   ]
  },
  {
   "cell_type": "code",
   "execution_count": 8,
   "metadata": {},
   "outputs": [],
   "source": [
    "def solve_polynomial_system(gb, gb_matrix, variables_present):\n",
    "    all_values = []\n",
    "    backtrack_multivariate([], gb, gb_matrix, variables_present, len(gb_matrix), 0, all_values)\n",
    "    return all_values"
   ]
  },
  {
   "cell_type": "code",
   "execution_count": 9,
   "metadata": {},
   "outputs": [],
   "source": [
    "def backtrack_multivariate(values, gb, gb_matrix, variables_present, current_index, previous_index, all_values):\n",
    "    x = P.gens()\n",
    "    if len(gb_matrix) == 1 and sum(gb_matrix[0][0][0]) == 0 and gb_matrix[0][0][1] == 1:\n",
    "        print(\"No Solution to given constraints!! Returning\")\n",
    "        return\n",
    "    i = len(values)\n",
    "    if i > n-1:\n",
    "        all_values.append(values)\n",
    "        return\n",
    "    \n",
    "    previous_index = current_index\n",
    "    current_index = current_index - 1\n",
    "    to_eliminate = n-2-i\n",
    "    while current_index>=0:\n",
    "            temp_bool = true\n",
    "            for j in variables_present[current_index]:\n",
    "                temp_bool = (temp_bool and (j>to_eliminate))\n",
    "            if temp_bool is False:\n",
    "                current_index = min(current_index + 1, len(gb)-1)\n",
    "                break\n",
    "            else:\n",
    "                current_index = current_index - 1\n",
    "    current_index = max(0, current_index)\n",
    "    \n",
    "    if i > 0:    \n",
    "        gb_new = []\n",
    "        for j in range(len(gb)):\n",
    "            gb_new.append(gb[j].subs({x[n-1-i]:values[0]}))\n",
    "        gb_matrix_new = [list(gb_new[z].dict().items()) for z in range(len(gb_new))];\n",
    "    else: \n",
    "        gb_new = gb\n",
    "        gb_matrix_new = gb_matrix\n",
    "    \n",
    "    all_roots = []\n",
    "    for k in range(current_index, previous_index):\n",
    "        roots = []\n",
    "        \n",
    "        try:\n",
    "            factors = gb_new[k].factor()\n",
    "        except:\n",
    "            continue\n",
    "        for fact in factors:\n",
    "            polynomial = fact[0].dict()\n",
    "            fac = list(polynomial.items())\n",
    "            if len(fac) == 1:\n",
    "                if 0 not in roots:\n",
    "                    roots.append(0)\n",
    "                \n",
    "            if len(fac) == 2:\n",
    "                if sum(fac[1][0]) < 2:\n",
    "                    value = -fac[0][1]/fac[1][1]\n",
    "                    if value not in roots:\n",
    "                        roots.append(value)\n",
    "        all_roots.append(roots)\n",
    "    \n",
    "    if (len(all_roots)) == 0:\n",
    "        print(\"Could not proceed with values \", values, \"returning\")\n",
    "        print(\"Possible reason: No solution in the given field or a variable can take infinite values\")\n",
    "        return\n",
    "    common_roots = all_roots[0]\n",
    "    for j in range(1,len(all_roots)):\n",
    "        common_roots = set(common_roots).intersection(all_roots[j])\n",
    "    if len(common_roots) == 0:\n",
    "        try:\n",
    "            common_roots.add(0)\n",
    "        except:\n",
    "            try:\n",
    "                common_roots.append(0)\n",
    "            except:\n",
    "                return\n",
    "    \n",
    "    for root in common_roots:\n",
    "        new = values\n",
    "        new.insert(0,root)\n",
    "        backtrack_multivariate(new.copy(), gb_new.copy(), gb_matrix_new.copy(), variables_present, current_index, previous_index, all_values)\n",
    "        values = values[1:]\n",
    "        "
   ]
  },
  {
   "cell_type": "code",
   "execution_count": 10,
   "metadata": {},
   "outputs": [],
   "source": [
    "def print_solutions(solutions):\n",
    "    for sol in solutions:\n",
    "        print(sol)"
   ]
  },
  {
   "cell_type": "code",
   "execution_count": 11,
   "metadata": {},
   "outputs": [],
   "source": [
    "gb, gb_matrix, variables_present = generate_groebner(F,P,equations,n,m)"
   ]
  },
  {
   "cell_type": "code",
   "execution_count": 12,
   "metadata": {},
   "outputs": [],
   "source": [
    "solutions = solve_polynomial_system(gb, gb_matrix, variables_present)"
   ]
  },
  {
   "cell_type": "code",
   "execution_count": 13,
   "metadata": {},
   "outputs": [
    {
     "name": "stdout",
     "output_type": "stream",
     "text": [
      "[-2.71562532770562, 2.54213091672306, 2.10530008186475]\n",
      "[-2.71180598484918, 2.41680896343768, -2.54236010447131]\n",
      "[-2.67206102923306, 1.19862029213984, -2.54236010447131]\n",
      "[2.30258044980207, -2.15908558181135, -2.54236010447131]\n",
      "[1.81364943740727, -2.15908558181135, -2.54236010447131]\n",
      "[1.06652197074627, -2.15908558181135, -2.54236010447131]\n",
      "[-1.15477208901541, -2.15908558181135, -2.54236010447131]\n",
      "[-2.52302453202815, -2.15908558181135, -2.54236010447131]\n"
     ]
    }
   ],
   "source": [
    "print_solutions(solutions)"
   ]
  }
 ],
 "metadata": {
  "kernelspec": {
   "display_name": "SageMath 9.3",
   "language": "sage",
   "name": "sagemath"
  },
  "language_info": {
   "codemirror_mode": {
    "name": "ipython",
    "version": 3
   },
   "file_extension": ".py",
   "mimetype": "text/x-python",
   "name": "python",
   "nbconvert_exporter": "python",
   "pygments_lexer": "ipython3",
   "version": "3.7.10"
  }
 },
 "nbformat": 4,
 "nbformat_minor": 4
}
