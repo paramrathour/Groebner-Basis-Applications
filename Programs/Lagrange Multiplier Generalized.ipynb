{
 "cells": [
  {
   "cell_type": "markdown",
   "metadata": {},
   "source": [
    "## Lagrange Generalized \n",
    "Note, f (optimizing functions) and g (constraints) are both multivariate polynomials\n",
    "\n",
    "#### Assumptions\n",
    "- It is possible that some variable is \"free\", i.e., its value can be taken any number in the field. I have not considered that as it makes symbolic root solving for other variables difficult.\n",
    "\n",
    "- Technically, I am calculating the optimum value only at critical points. If the region under constraints is not bounded by above (below) then a maximum (minimum) doesn't exist. I am not checking the boundedness of region here"
   ]
  },
  {
   "cell_type": "code",
   "execution_count": 1,
   "metadata": {},
   "outputs": [],
   "source": [
    "import numpy as np"
   ]
  },
  {
   "cell_type": "code",
   "execution_count": 2,
   "metadata": {},
   "outputs": [],
   "source": [
    "set_random_seed(20)"
   ]
  },
  {
   "cell_type": "code",
   "execution_count": 3,
   "metadata": {},
   "outputs": [],
   "source": [
    "n = 4 # number of variables\n",
    "m = 2 # number of equations"
   ]
  },
  {
   "cell_type": "code",
   "execution_count": 4,
   "metadata": {},
   "outputs": [],
   "source": [
    "F = RR # Field "
   ]
  },
  {
   "cell_type": "code",
   "execution_count": 5,
   "metadata": {},
   "outputs": [
    {
     "data": {
      "text/plain": [
       "['x0', 'x1', 'x2', 'x3']"
      ]
     },
     "execution_count": 5,
     "metadata": {},
     "output_type": "execute_result"
    }
   ],
   "source": [
    "variables = ['x'+str(i) for i in range(n)]; variables"
   ]
  },
  {
   "cell_type": "code",
   "execution_count": 6,
   "metadata": {},
   "outputs": [
    {
     "data": {
      "text/plain": [
       "Multivariate Polynomial Ring in x0, x1, x2, x3 over Real Field with 53 bits of precision"
      ]
     },
     "execution_count": 6,
     "metadata": {},
     "output_type": "execute_result"
    }
   ],
   "source": [
    "P = PolynomialRing(F, variables, order='lex'); P"
   ]
  },
  {
   "cell_type": "code",
   "execution_count": 7,
   "metadata": {},
   "outputs": [
    {
     "data": {
      "text/plain": [
       "(x0, x1, x2, x3)"
      ]
     },
     "execution_count": 7,
     "metadata": {},
     "output_type": "execute_result"
    }
   ],
   "source": [
    "x = P.gens(); x"
   ]
  },
  {
   "cell_type": "code",
   "execution_count": 8,
   "metadata": {},
   "outputs": [
    {
     "data": {
      "text/plain": [
       "-0.576548538773419*x0*x2 + 0.758135904887725*x0*x3 + 0.210393403830613*x2^2 + 0.147063164179530*x2 + 0.406179800550447"
      ]
     },
     "execution_count": 8,
     "metadata": {},
     "output_type": "execute_result"
    }
   ],
   "source": [
    "f = P.random_element(); f"
   ]
  },
  {
   "cell_type": "code",
   "execution_count": 9,
   "metadata": {},
   "outputs": [
    {
     "data": {
      "text/plain": [
       "[0.0181760986566939*x0*x1 - 0.870199714926740*x1^2 - 0.482332994666573*x1*x2 + 0.734388006524759*x3^2 + 0.808443757165010,\n",
       " -0.176824640560532*x0 - 0.353992568332800*x1^2 - 0.767918353345463*x1 - 0.323112211629810*x2*x3 + 0.462856780049277*x3^2]"
      ]
     },
     "execution_count": 9,
     "metadata": {},
     "output_type": "execute_result"
    }
   ],
   "source": [
    "g = [P.random_element() for i in range(m)]; g"
   ]
  },
  {
   "cell_type": "code",
   "execution_count": 10,
   "metadata": {},
   "outputs": [
    {
     "data": {
      "text/plain": [
       "['L0', 'L1']"
      ]
     },
     "execution_count": 10,
     "metadata": {},
     "output_type": "execute_result"
    }
   ],
   "source": [
    "extra_variables = ['L'+str(i) for i in range(len(g))]; extra_variables"
   ]
  },
  {
   "cell_type": "code",
   "execution_count": 11,
   "metadata": {},
   "outputs": [
    {
     "data": {
      "text/plain": [
       "Multivariate Polynomial Ring in L0, L1, x0, x1, x2, x3 over Real Field with 53 bits of precision"
      ]
     },
     "execution_count": 11,
     "metadata": {},
     "output_type": "execute_result"
    }
   ],
   "source": [
    "Pnew = PolynomialRing(F, extra_variables + variables, order='lex'); Pnew"
   ]
  },
  {
   "cell_type": "code",
   "execution_count": 12,
   "metadata": {},
   "outputs": [
    {
     "data": {
      "text/plain": [
       "(L0, L1, x0, x1, x2, x3)"
      ]
     },
     "execution_count": 12,
     "metadata": {},
     "output_type": "execute_result"
    }
   ],
   "source": [
    "x = Pnew.gens(); x"
   ]
  },
  {
   "cell_type": "code",
   "execution_count": 13,
   "metadata": {},
   "outputs": [],
   "source": [
    "f = Pnew(f)\n",
    "g = [Pnew(g[i]) for i in range(len(g))]"
   ]
  },
  {
   "cell_type": "code",
   "execution_count": 14,
   "metadata": {},
   "outputs": [
    {
     "data": {
      "text/plain": [
       "[0,\n",
       " 0,\n",
       " -0.576548538773419*x2 + 0.758135904887725*x3,\n",
       " 0,\n",
       " -0.576548538773419*x0 + 0.420786807661226*x2 + 0.147063164179530,\n",
       " 0.758135904887725*x0]"
      ]
     },
     "execution_count": 14,
     "metadata": {},
     "output_type": "execute_result"
    }
   ],
   "source": [
    "f_gradient = f.gradient(); f_gradient"
   ]
  },
  {
   "cell_type": "code",
   "execution_count": 15,
   "metadata": {},
   "outputs": [
    {
     "data": {
      "text/plain": [
       "[[0,\n",
       "  0,\n",
       "  0.0181760986566939*x1,\n",
       "  0.0181760986566939*x0 - 1.74039942985348*x1 - 0.482332994666573*x2,\n",
       "  -0.482332994666573*x1,\n",
       "  1.46877601304952*x3],\n",
       " [0,\n",
       "  0,\n",
       "  -0.176824640560532,\n",
       "  -0.707985136665599*x1 - 0.767918353345463,\n",
       "  -0.323112211629810*x3,\n",
       "  -0.323112211629810*x2 + 0.925713560098553*x3]]"
      ]
     },
     "execution_count": 15,
     "metadata": {},
     "output_type": "execute_result"
    }
   ],
   "source": [
    "g_gradient = [g[i].gradient() for i in range(len(g))]; g_gradient"
   ]
  },
  {
   "cell_type": "code",
   "execution_count": 16,
   "metadata": {},
   "outputs": [
    {
     "data": {
      "text/plain": [
       "(L0, L1, x0, x1, x2, x3)"
      ]
     },
     "execution_count": 16,
     "metadata": {},
     "output_type": "execute_result"
    }
   ],
   "source": [
    "x = Pnew.gens(); x"
   ]
  },
  {
   "cell_type": "code",
   "execution_count": 17,
   "metadata": {},
   "outputs": [
    {
     "data": {
      "text/plain": [
       "0"
      ]
     },
     "execution_count": 17,
     "metadata": {},
     "output_type": "execute_result"
    }
   ],
   "source": [
    "f_gradient[0] - x[0]*g_gradient[0][0]"
   ]
  },
  {
   "cell_type": "code",
   "execution_count": 18,
   "metadata": {},
   "outputs": [
    {
     "data": {
      "text/plain": [
       "[0,\n",
       " -0.0181760986566939*L0*x1 + 0.176824640560532*L1 - 0.576548538773419*x2 + 0.758135904887725*x3,\n",
       " -0.0181760986566939*L0*x0 + 1.74039942985348*L0*x1 + 0.482332994666573*L0*x2 + 0.707985136665599*L1*x1 + 0.767918353345463*L1,\n",
       " 0.482332994666573*L0*x1 + 0.323112211629810*L1*x3 - 0.576548538773419*x0 + 0.420786807661226*x2 + 0.147063164179530,\n",
       " 0.0181760986566939*x0*x1 - 0.870199714926740*x1^2 - 0.482332994666573*x1*x2 + 0.734388006524759*x3^2 + 0.808443757165010,\n",
       " -0.176824640560532*x0 - 0.353992568332800*x1^2 - 0.767918353345463*x1 - 0.323112211629810*x2*x3 + 0.462856780049277*x3^2]"
      ]
     },
     "execution_count": 18,
     "metadata": {},
     "output_type": "execute_result"
    }
   ],
   "source": [
    "equations = [f_gradient[i] - sum([x[j] * g_gradient[j][i] for j in range(len(g))]) for i in range(1, n+1)] + g; equations"
   ]
  },
  {
   "cell_type": "code",
   "execution_count": 19,
   "metadata": {},
   "outputs": [
    {
     "data": {
      "text/plain": [
       "Ideal (0, -0.0181760986566939*L0*x1 + 0.176824640560532*L1 - 0.576548538773419*x2 + 0.758135904887725*x3, -0.0181760986566939*L0*x0 + 1.74039942985348*L0*x1 + 0.482332994666573*L0*x2 + 0.707985136665599*L1*x1 + 0.767918353345463*L1, 0.482332994666573*L0*x1 + 0.323112211629810*L1*x3 - 0.576548538773419*x0 + 0.420786807661226*x2 + 0.147063164179530, 0.0181760986566939*x0*x1 - 0.870199714926740*x1^2 - 0.482332994666573*x1*x2 + 0.734388006524759*x3^2 + 0.808443757165010, -0.176824640560532*x0 - 0.353992568332800*x1^2 - 0.767918353345463*x1 - 0.323112211629810*x2*x3 + 0.462856780049277*x3^2) of Multivariate Polynomial Ring in L0, L1, x0, x1, x2, x3 over Real Field with 53 bits of precision"
      ]
     },
     "execution_count": 19,
     "metadata": {},
     "output_type": "execute_result"
    }
   ],
   "source": [
    "I = Ideal(equations); I"
   ]
  },
  {
   "cell_type": "code",
   "execution_count": 20,
   "metadata": {},
   "outputs": [
    {
     "data": {
      "text/plain": [
       "[L0 + 8.18400000000000*x3 - 0.300000000000000, L1 + 28.3800000000000*x3 - 0.921400000000000, x0 + 186.000000000000*x3 - 7.64900000000000, x1 + 7.19900000000000*x3 - 0.0527300000000000, x2, x3^2 - 2.16300000000000*x3 + 0.0779500000000000]"
      ]
     },
     "execution_count": 20,
     "metadata": {},
     "output_type": "execute_result"
    }
   ],
   "source": [
    "gb = I.groebner_basis(); gb"
   ]
  },
  {
   "cell_type": "code",
   "execution_count": 21,
   "metadata": {},
   "outputs": [
    {
     "data": {
      "text/plain": [
       "[[((1, 0, 0, 0, 0, 0), 1.00000000000000),\n",
       "  ((0, 0, 0, 0, 0, 1), 8.18400000000000),\n",
       "  ((0, 0, 0, 0, 0, 0), -0.300000000000000)],\n",
       " [((0, 1, 0, 0, 0, 0), 1.00000000000000),\n",
       "  ((0, 0, 0, 0, 0, 1), 28.3800000000000),\n",
       "  ((0, 0, 0, 0, 0, 0), -0.921400000000000)],\n",
       " [((0, 0, 1, 0, 0, 0), 1.00000000000000),\n",
       "  ((0, 0, 0, 0, 0, 1), 186.000000000000),\n",
       "  ((0, 0, 0, 0, 0, 0), -7.64900000000000)],\n",
       " [((0, 0, 0, 1, 0, 0), 1.00000000000000),\n",
       "  ((0, 0, 0, 0, 0, 1), 7.19900000000000),\n",
       "  ((0, 0, 0, 0, 0, 0), -0.0527300000000000)],\n",
       " [((0, 0, 0, 0, 1, 0), 1.00000000000000)],\n",
       " [((0, 0, 0, 0, 0, 2), 1.00000000000000),\n",
       "  ((0, 0, 0, 0, 0, 1), -2.16300000000000),\n",
       "  ((0, 0, 0, 0, 0, 0), 0.0779500000000000)]]"
      ]
     },
     "execution_count": 21,
     "metadata": {},
     "output_type": "execute_result"
    }
   ],
   "source": [
    "gb_matrix = [list(gb[i].dict().items()) for i in range(len(gb))]; gb_matrix"
   ]
  },
  {
   "cell_type": "code",
   "execution_count": 22,
   "metadata": {},
   "outputs": [
    {
     "data": {
      "text/plain": [
       "[[0, 5], [1, 5], [2, 5], [3, 5], [4], [5]]"
      ]
     },
     "execution_count": 22,
     "metadata": {},
     "output_type": "execute_result"
    }
   ],
   "source": [
    "variables_present = []\n",
    "for polynomial in gb_matrix:\n",
    "    variables = []\n",
    "    for term in polynomial:\n",
    "        for i, variable in enumerate(term[0]):\n",
    "            if variable != 0 and i not in variables:\n",
    "                variables.append(i)\n",
    "    variables_present.append(variables)\n",
    "variables_present"
   ]
  },
  {
   "cell_type": "code",
   "execution_count": 23,
   "metadata": {},
   "outputs": [],
   "source": [
    "all_values = []"
   ]
  },
  {
   "cell_type": "code",
   "execution_count": 24,
   "metadata": {},
   "outputs": [],
   "source": [
    "def backtrack_multivariate(values, gb, gb_matrix, variables_present, current_index, previous_index, all_values):\n",
    "    try:\n",
    "        if sum(gb_matrix[0][0][0]) == 0 and abs(gb_matrix[0][0][1]-1) <= 1e-6:\n",
    "            print(\"No Solution to given constraints!! Returning\")\n",
    "            return\n",
    "    except:\n",
    "        ;\n",
    "        \n",
    "    i = len(values)\n",
    "    if i > n+m-1:\n",
    "        all_values.append(values)\n",
    "        return\n",
    "    \n",
    "    previous_index = current_index\n",
    "    current_index = current_index - 1\n",
    "    to_eliminate = n+m-2-i\n",
    "    while current_index>=0:\n",
    "            temp_bool = true\n",
    "            for j in variables_present[current_index]:\n",
    "                temp_bool = temp_bool and (j>to_eliminate)\n",
    "            if temp_bool is False:\n",
    "                current_index = min(current_index + 1, len(gb)-1)\n",
    "                break\n",
    "            else:\n",
    "                current_index = current_index - 1\n",
    "    current_index = max(0, current_index)\n",
    "    if i > 0:    \n",
    "        gb_new = []\n",
    "        for j in range(len(gb)):\n",
    "            gb_new.append(gb[j].subs({x[n+len(g)-i]:values[0]}))\n",
    "        gb_matrix_new = [list(gb_new[z].dict().items()) for z in range(len(gb_new))];\n",
    "    else: \n",
    "        gb_new = gb\n",
    "        gb_matrix_new = gb_matrix\n",
    "       \n",
    "    all_roots = []\n",
    "    for k in range(current_index, previous_index):\n",
    "        roots = []\n",
    "        try:\n",
    "            factors = gb_new[k].factor()\n",
    "        except:\n",
    "            continue\n",
    "        for fact in factors:\n",
    "            polynomial = fact[0].dict()\n",
    "            fac = list(polynomial.items())\n",
    "            if len(fac) == 1:\n",
    "                if 0 not in roots:\n",
    "                    roots.append(0)\n",
    "                \n",
    "            if len(fac) == 2:\n",
    "                if sum(fac[1][0]) < 2:\n",
    "                    value = -fac[0][1]/fac[1][1]\n",
    "                    if value not in roots:\n",
    "                        roots.append(value)\n",
    "        all_roots.append(roots)\n",
    "    \n",
    "    if (len(all_roots)) == 0:\n",
    "        print(\"Could not proceed with values \", values, \"returning\")\n",
    "        print(\"Possible reason: No solution or a variable can take infinite values\")\n",
    "        return\n",
    "    common_roots = all_roots[0]\n",
    "    for j in range(1,len(all_roots)):\n",
    "        common_roots = set(common_roots).intersection(all_roots[j])\n",
    "    if len(common_roots) == 0:\n",
    "        try:\n",
    "            common_roots.add(0)\n",
    "        except:\n",
    "            try:\n",
    "                common_roots.append(0)\n",
    "            except:\n",
    "                return\n",
    "    \n",
    "    for root in common_roots:\n",
    "        new = values\n",
    "        new.insert(0,root)\n",
    "        backtrack_multivariate(new.copy(), gb_new.copy(), gb_matrix_new.copy(), variables_present, current_index, previous_index, all_values)\n",
    "        values = values[1:]\n",
    "        "
   ]
  },
  {
   "cell_type": "code",
   "execution_count": 25,
   "metadata": {},
   "outputs": [],
   "source": [
    "all_values = []"
   ]
  },
  {
   "cell_type": "code",
   "execution_count": 26,
   "metadata": {},
   "outputs": [],
   "source": [
    "backtrack_multivariate([], gb, gb_matrix, variables_present, len(gb_matrix), 0, all_values)"
   ]
  },
  {
   "cell_type": "code",
   "execution_count": 27,
   "metadata": {},
   "outputs": [
    {
     "name": "stdout",
     "output_type": "stream",
     "text": [
      "(L0, L1, x0, x1, x2, x3)  is  [-17.1019729217801, -59.4241512610117, -387.850384585912, -15.2547972560966, 0, 2.12634077734361]  with f (L1, x0, x1, x2, x3) = -624.830084140256\n",
      "(L0, L1, x0, x1, x2, x3)  is  [-0.0000190782198927208, -0.118988738988338, 0.830384585911530, -0.211179743903349, 0, 0.0366592226563896]  with f (L1, x0, x1, x2, x3) = 0.429258407762002\n",
      "Minimum is at  [-17.1019729217801, -59.4241512610117, -387.850384585912, -15.2547972560966, 0, 2.12634077734361]  and the minimum value is  -624.830084140256\n",
      "Maximum is at  [-0.0000190782198927208, -0.118988738988338, 0.830384585911530, -0.211179743903349, 0, 0.0366592226563896]  and the maximum value is  0.429258407762002\n"
     ]
    }
   ],
   "source": [
    "if len(all_values) > 0:\n",
    "    minimum_value = (0,np.inf)\n",
    "    maximum_value = (0,-np.inf)\n",
    "    for i,values in enumerate(all_values):\n",
    "        value_assignments = {}\n",
    "        for j, value in enumerate(values):\n",
    "            value_assignments[x[j]] = value\n",
    "        f_value = f.subs(value_assignments)\n",
    "        if f_value < minimum_value[1]:\n",
    "            minimum_value = (i,f_value)\n",
    "        if f_value > maximum_value[1]:\n",
    "            maximum_value = (i,f_value)\n",
    "        print(str(x), \" is \", values, \" with f\", str(x[1:]), \"=\", f_value)\n",
    "    print(\"Minimum is at \", all_values[minimum_value[0]], \" and the minimum value is \", minimum_value[1])\n",
    "    print(\"Maximum is at \", all_values[maximum_value[0]], \" and the maximum value is \", maximum_value[1])"
   ]
  }
 ],
 "metadata": {
  "kernelspec": {
   "display_name": "SageMath 9.3",
   "language": "sage",
   "name": "sagemath"
  },
  "language_info": {
   "codemirror_mode": {
    "name": "ipython",
    "version": 3
   },
   "file_extension": ".py",
   "mimetype": "text/x-python",
   "name": "python",
   "nbconvert_exporter": "python",
   "pygments_lexer": "ipython3",
   "version": "3.7.10"
  }
 },
 "nbformat": 4,
 "nbformat_minor": 4
}
